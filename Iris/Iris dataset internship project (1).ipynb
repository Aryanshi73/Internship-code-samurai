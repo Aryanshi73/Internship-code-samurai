{
 "cells": [
  {
   "cell_type": "code",
   "execution_count": 1,
   "id": "ab00143b",
   "metadata": {},
   "outputs": [],
   "source": [
    "import pandas as pd\n",
    "import numpy as np\n",
    "import matplotlib.pyplot as plt\n",
    "import plotly.express as px \n",
    "import seaborn as sns"
   ]
  },
  {
   "cell_type": "markdown",
   "id": "7fa48993",
   "metadata": {},
   "source": [
    "Load the iris Dataset"
   ]
  },
  {
   "cell_type": "code",
   "execution_count": 2,
   "id": "2115e4d0",
   "metadata": {},
   "outputs": [],
   "source": [
    "\n",
    "data=pd.read_csv(\"Iris.csv\")"
   ]
  },
  {
   "cell_type": "markdown",
   "id": "b7560dcb",
   "metadata": {},
   "source": [
    "Data exploration"
   ]
  },
  {
   "cell_type": "code",
   "execution_count": 3,
   "id": "7b2c4221",
   "metadata": {},
   "outputs": [
    {
     "name": "stdout",
     "output_type": "stream",
     "text": [
      "<class 'pandas.core.frame.DataFrame'>\n",
      "RangeIndex: 150 entries, 0 to 149\n",
      "Data columns (total 6 columns):\n",
      " #   Column         Non-Null Count  Dtype  \n",
      "---  ------         --------------  -----  \n",
      " 0   Id             150 non-null    int64  \n",
      " 1   SepalLengthCm  150 non-null    float64\n",
      " 2   SepalWidthCm   150 non-null    float64\n",
      " 3   PetalLengthCm  150 non-null    float64\n",
      " 4   PetalWidthCm   150 non-null    float64\n",
      " 5   Species        150 non-null    object \n",
      "dtypes: float64(4), int64(1), object(1)\n",
      "memory usage: 7.2+ KB\n"
     ]
    }
   ],
   "source": [
    "data.info()"
   ]
  },
  {
   "cell_type": "code",
   "execution_count": 4,
   "id": "90b676ad",
   "metadata": {},
   "outputs": [
    {
     "data": {
      "text/html": [
       "<div>\n",
       "<style scoped>\n",
       "    .dataframe tbody tr th:only-of-type {\n",
       "        vertical-align: middle;\n",
       "    }\n",
       "\n",
       "    .dataframe tbody tr th {\n",
       "        vertical-align: top;\n",
       "    }\n",
       "\n",
       "    .dataframe thead th {\n",
       "        text-align: right;\n",
       "    }\n",
       "</style>\n",
       "<table border=\"1\" class=\"dataframe\">\n",
       "  <thead>\n",
       "    <tr style=\"text-align: right;\">\n",
       "      <th></th>\n",
       "      <th>Id</th>\n",
       "      <th>SepalLengthCm</th>\n",
       "      <th>SepalWidthCm</th>\n",
       "      <th>PetalLengthCm</th>\n",
       "      <th>PetalWidthCm</th>\n",
       "    </tr>\n",
       "  </thead>\n",
       "  <tbody>\n",
       "    <tr>\n",
       "      <th>count</th>\n",
       "      <td>150.000000</td>\n",
       "      <td>150.000000</td>\n",
       "      <td>150.000000</td>\n",
       "      <td>150.000000</td>\n",
       "      <td>150.000000</td>\n",
       "    </tr>\n",
       "    <tr>\n",
       "      <th>mean</th>\n",
       "      <td>75.500000</td>\n",
       "      <td>5.843333</td>\n",
       "      <td>3.054000</td>\n",
       "      <td>3.758667</td>\n",
       "      <td>1.198667</td>\n",
       "    </tr>\n",
       "    <tr>\n",
       "      <th>std</th>\n",
       "      <td>43.445368</td>\n",
       "      <td>0.828066</td>\n",
       "      <td>0.433594</td>\n",
       "      <td>1.764420</td>\n",
       "      <td>0.763161</td>\n",
       "    </tr>\n",
       "    <tr>\n",
       "      <th>min</th>\n",
       "      <td>1.000000</td>\n",
       "      <td>4.300000</td>\n",
       "      <td>2.000000</td>\n",
       "      <td>1.000000</td>\n",
       "      <td>0.100000</td>\n",
       "    </tr>\n",
       "    <tr>\n",
       "      <th>25%</th>\n",
       "      <td>38.250000</td>\n",
       "      <td>5.100000</td>\n",
       "      <td>2.800000</td>\n",
       "      <td>1.600000</td>\n",
       "      <td>0.300000</td>\n",
       "    </tr>\n",
       "    <tr>\n",
       "      <th>50%</th>\n",
       "      <td>75.500000</td>\n",
       "      <td>5.800000</td>\n",
       "      <td>3.000000</td>\n",
       "      <td>4.350000</td>\n",
       "      <td>1.300000</td>\n",
       "    </tr>\n",
       "    <tr>\n",
       "      <th>75%</th>\n",
       "      <td>112.750000</td>\n",
       "      <td>6.400000</td>\n",
       "      <td>3.300000</td>\n",
       "      <td>5.100000</td>\n",
       "      <td>1.800000</td>\n",
       "    </tr>\n",
       "    <tr>\n",
       "      <th>max</th>\n",
       "      <td>150.000000</td>\n",
       "      <td>7.900000</td>\n",
       "      <td>4.400000</td>\n",
       "      <td>6.900000</td>\n",
       "      <td>2.500000</td>\n",
       "    </tr>\n",
       "  </tbody>\n",
       "</table>\n",
       "</div>"
      ],
      "text/plain": [
       "               Id  SepalLengthCm  SepalWidthCm  PetalLengthCm  PetalWidthCm\n",
       "count  150.000000     150.000000    150.000000     150.000000    150.000000\n",
       "mean    75.500000       5.843333      3.054000       3.758667      1.198667\n",
       "std     43.445368       0.828066      0.433594       1.764420      0.763161\n",
       "min      1.000000       4.300000      2.000000       1.000000      0.100000\n",
       "25%     38.250000       5.100000      2.800000       1.600000      0.300000\n",
       "50%     75.500000       5.800000      3.000000       4.350000      1.300000\n",
       "75%    112.750000       6.400000      3.300000       5.100000      1.800000\n",
       "max    150.000000       7.900000      4.400000       6.900000      2.500000"
      ]
     },
     "execution_count": 4,
     "metadata": {},
     "output_type": "execute_result"
    }
   ],
   "source": [
    "data.describe()\n"
   ]
  },
  {
   "cell_type": "markdown",
   "id": "d9cac408",
   "metadata": {},
   "source": [
    "Identifyin the null value in dataset"
   ]
  },
  {
   "cell_type": "markdown",
   "id": "f815afef",
   "metadata": {},
   "source": [
    "isnull() function reflects that there is no nul value present in iris dataset therefore data is cleaned\n"
   ]
  },
  {
   "cell_type": "code",
   "execution_count": 5,
   "id": "8b15b808",
   "metadata": {},
   "outputs": [
    {
     "data": {
      "text/html": [
       "<div>\n",
       "<style scoped>\n",
       "    .dataframe tbody tr th:only-of-type {\n",
       "        vertical-align: middle;\n",
       "    }\n",
       "\n",
       "    .dataframe tbody tr th {\n",
       "        vertical-align: top;\n",
       "    }\n",
       "\n",
       "    .dataframe thead th {\n",
       "        text-align: right;\n",
       "    }\n",
       "</style>\n",
       "<table border=\"1\" class=\"dataframe\">\n",
       "  <thead>\n",
       "    <tr style=\"text-align: right;\">\n",
       "      <th></th>\n",
       "      <th>Id</th>\n",
       "      <th>SepalLengthCm</th>\n",
       "      <th>SepalWidthCm</th>\n",
       "      <th>PetalLengthCm</th>\n",
       "      <th>PetalWidthCm</th>\n",
       "      <th>Species</th>\n",
       "    </tr>\n",
       "  </thead>\n",
       "  <tbody>\n",
       "    <tr>\n",
       "      <th>0</th>\n",
       "      <td>False</td>\n",
       "      <td>False</td>\n",
       "      <td>False</td>\n",
       "      <td>False</td>\n",
       "      <td>False</td>\n",
       "      <td>False</td>\n",
       "    </tr>\n",
       "    <tr>\n",
       "      <th>1</th>\n",
       "      <td>False</td>\n",
       "      <td>False</td>\n",
       "      <td>False</td>\n",
       "      <td>False</td>\n",
       "      <td>False</td>\n",
       "      <td>False</td>\n",
       "    </tr>\n",
       "    <tr>\n",
       "      <th>2</th>\n",
       "      <td>False</td>\n",
       "      <td>False</td>\n",
       "      <td>False</td>\n",
       "      <td>False</td>\n",
       "      <td>False</td>\n",
       "      <td>False</td>\n",
       "    </tr>\n",
       "    <tr>\n",
       "      <th>3</th>\n",
       "      <td>False</td>\n",
       "      <td>False</td>\n",
       "      <td>False</td>\n",
       "      <td>False</td>\n",
       "      <td>False</td>\n",
       "      <td>False</td>\n",
       "    </tr>\n",
       "    <tr>\n",
       "      <th>4</th>\n",
       "      <td>False</td>\n",
       "      <td>False</td>\n",
       "      <td>False</td>\n",
       "      <td>False</td>\n",
       "      <td>False</td>\n",
       "      <td>False</td>\n",
       "    </tr>\n",
       "    <tr>\n",
       "      <th>...</th>\n",
       "      <td>...</td>\n",
       "      <td>...</td>\n",
       "      <td>...</td>\n",
       "      <td>...</td>\n",
       "      <td>...</td>\n",
       "      <td>...</td>\n",
       "    </tr>\n",
       "    <tr>\n",
       "      <th>145</th>\n",
       "      <td>False</td>\n",
       "      <td>False</td>\n",
       "      <td>False</td>\n",
       "      <td>False</td>\n",
       "      <td>False</td>\n",
       "      <td>False</td>\n",
       "    </tr>\n",
       "    <tr>\n",
       "      <th>146</th>\n",
       "      <td>False</td>\n",
       "      <td>False</td>\n",
       "      <td>False</td>\n",
       "      <td>False</td>\n",
       "      <td>False</td>\n",
       "      <td>False</td>\n",
       "    </tr>\n",
       "    <tr>\n",
       "      <th>147</th>\n",
       "      <td>False</td>\n",
       "      <td>False</td>\n",
       "      <td>False</td>\n",
       "      <td>False</td>\n",
       "      <td>False</td>\n",
       "      <td>False</td>\n",
       "    </tr>\n",
       "    <tr>\n",
       "      <th>148</th>\n",
       "      <td>False</td>\n",
       "      <td>False</td>\n",
       "      <td>False</td>\n",
       "      <td>False</td>\n",
       "      <td>False</td>\n",
       "      <td>False</td>\n",
       "    </tr>\n",
       "    <tr>\n",
       "      <th>149</th>\n",
       "      <td>False</td>\n",
       "      <td>False</td>\n",
       "      <td>False</td>\n",
       "      <td>False</td>\n",
       "      <td>False</td>\n",
       "      <td>False</td>\n",
       "    </tr>\n",
       "  </tbody>\n",
       "</table>\n",
       "<p>150 rows × 6 columns</p>\n",
       "</div>"
      ],
      "text/plain": [
       "        Id  SepalLengthCm  SepalWidthCm  PetalLengthCm  PetalWidthCm  Species\n",
       "0    False          False         False          False         False    False\n",
       "1    False          False         False          False         False    False\n",
       "2    False          False         False          False         False    False\n",
       "3    False          False         False          False         False    False\n",
       "4    False          False         False          False         False    False\n",
       "..     ...            ...           ...            ...           ...      ...\n",
       "145  False          False         False          False         False    False\n",
       "146  False          False         False          False         False    False\n",
       "147  False          False         False          False         False    False\n",
       "148  False          False         False          False         False    False\n",
       "149  False          False         False          False         False    False\n",
       "\n",
       "[150 rows x 6 columns]"
      ]
     },
     "execution_count": 5,
     "metadata": {},
     "output_type": "execute_result"
    }
   ],
   "source": [
    "data.isnull()"
   ]
  },
  {
   "cell_type": "code",
   "execution_count": 6,
   "id": "1dcdc448",
   "metadata": {
    "scrolled": false
   },
   "outputs": [
    {
     "data": {
      "text/plain": [
       "Id               150\n",
       "SepalLengthCm     35\n",
       "SepalWidthCm      23\n",
       "PetalLengthCm     43\n",
       "PetalWidthCm      22\n",
       "Species            3\n",
       "dtype: int64"
      ]
     },
     "execution_count": 6,
     "metadata": {},
     "output_type": "execute_result"
    }
   ],
   "source": [
    "data.nunique()"
   ]
  },
  {
   "cell_type": "markdown",
   "id": "a8e94934",
   "metadata": {},
   "source": [
    "Data preprocessing"
   ]
  },
  {
   "cell_type": "code",
   "execution_count": 7,
   "id": "53affdf9",
   "metadata": {},
   "outputs": [
    {
     "data": {
      "application/vnd.plotly.v1+json": {
       "config": {
        "plotlyServerURL": "https://plot.ly"
       },
       "data": [
        {
         "alignmentgroup": "True",
         "hovertemplate": "PetalLengthCm=1.4<br>SepalLengthCm=%{x}<br>SepalWidthCm=%{y}<extra></extra>",
         "legendgroup": "1.4",
         "marker": {
          "color": "#636efa"
         },
         "name": "1.4",
         "notched": false,
         "offsetgroup": "1.4",
         "orientation": "v",
         "showlegend": true,
         "type": "box",
         "x": [
          5.1,
          4.9,
          5,
          4.6,
          4.4,
          4.8,
          5.1,
          5.2,
          5.5,
          4.8,
          4.6,
          5
         ],
         "x0": " ",
         "xaxis": "x",
         "y": [
          3.5,
          3,
          3.6,
          3.4,
          2.9,
          3,
          3.5,
          3.4,
          4.2,
          3,
          3.2,
          3.3
         ],
         "y0": " ",
         "yaxis": "y"
        },
        {
         "alignmentgroup": "True",
         "hovertemplate": "PetalLengthCm=1.3<br>SepalLengthCm=%{x}<br>SepalWidthCm=%{y}<extra></extra>",
         "legendgroup": "1.3",
         "marker": {
          "color": "#EF553B"
         },
         "name": "1.3",
         "notched": false,
         "offsetgroup": "1.3",
         "orientation": "v",
         "showlegend": true,
         "type": "box",
         "x": [
          4.7,
          5.4,
          5.5,
          4.4,
          5,
          4.5,
          4.4
         ],
         "x0": " ",
         "xaxis": "x",
         "y": [
          3.2,
          3.9,
          3.5,
          3,
          3.5,
          2.3,
          3.2
         ],
         "y0": " ",
         "yaxis": "y"
        },
        {
         "alignmentgroup": "True",
         "hovertemplate": "PetalLengthCm=1.5<br>SepalLengthCm=%{x}<br>SepalWidthCm=%{y}<extra></extra>",
         "legendgroup": "1.5",
         "marker": {
          "color": "#00cc96"
         },
         "name": "1.5",
         "notched": false,
         "offsetgroup": "1.5",
         "orientation": "v",
         "showlegend": true,
         "type": "box",
         "x": [
          4.6,
          5,
          4.9,
          5.4,
          5.7,
          5.1,
          5.1,
          5.2,
          5.4,
          5.2,
          4.9,
          4.9,
          5.1,
          5.3
         ],
         "x0": " ",
         "xaxis": "x",
         "y": [
          3.1,
          3.4,
          3.1,
          3.7,
          4.4,
          3.8,
          3.7,
          3.5,
          3.4,
          4.1,
          3.1,
          3.1,
          3.4,
          3.7
         ],
         "y0": " ",
         "yaxis": "y"
        },
        {
         "alignmentgroup": "True",
         "hovertemplate": "PetalLengthCm=1.7<br>SepalLengthCm=%{x}<br>SepalWidthCm=%{y}<extra></extra>",
         "legendgroup": "1.7",
         "marker": {
          "color": "#ab63fa"
         },
         "name": "1.7",
         "notched": false,
         "offsetgroup": "1.7",
         "orientation": "v",
         "showlegend": true,
         "type": "box",
         "x": [
          5.4,
          5.7,
          5.4,
          5.1
         ],
         "x0": " ",
         "xaxis": "x",
         "y": [
          3.9,
          3.8,
          3.4,
          3.3
         ],
         "y0": " ",
         "yaxis": "y"
        },
        {
         "alignmentgroup": "True",
         "hovertemplate": "PetalLengthCm=1.6<br>SepalLengthCm=%{x}<br>SepalWidthCm=%{y}<extra></extra>",
         "legendgroup": "1.6",
         "marker": {
          "color": "#FFA15A"
         },
         "name": "1.6",
         "notched": false,
         "offsetgroup": "1.6",
         "orientation": "v",
         "showlegend": true,
         "type": "box",
         "x": [
          4.8,
          5,
          5,
          4.7,
          4.8,
          5,
          5.1
         ],
         "x0": " ",
         "xaxis": "x",
         "y": [
          3.4,
          3,
          3.4,
          3.2,
          3.1,
          3.5,
          3.8
         ],
         "y0": " ",
         "yaxis": "y"
        },
        {
         "alignmentgroup": "True",
         "hovertemplate": "PetalLengthCm=1.1<br>SepalLengthCm=%{x}<br>SepalWidthCm=%{y}<extra></extra>",
         "legendgroup": "1.1",
         "marker": {
          "color": "#19d3f3"
         },
         "name": "1.1",
         "notched": false,
         "offsetgroup": "1.1",
         "orientation": "v",
         "showlegend": true,
         "type": "box",
         "x": [
          4.3
         ],
         "x0": " ",
         "xaxis": "x",
         "y": [
          3
         ],
         "y0": " ",
         "yaxis": "y"
        },
        {
         "alignmentgroup": "True",
         "hovertemplate": "PetalLengthCm=1.2<br>SepalLengthCm=%{x}<br>SepalWidthCm=%{y}<extra></extra>",
         "legendgroup": "1.2",
         "marker": {
          "color": "#FF6692"
         },
         "name": "1.2",
         "notched": false,
         "offsetgroup": "1.2",
         "orientation": "v",
         "showlegend": true,
         "type": "box",
         "x": [
          5.8,
          5
         ],
         "x0": " ",
         "xaxis": "x",
         "y": [
          4,
          3.2
         ],
         "y0": " ",
         "yaxis": "y"
        },
        {
         "alignmentgroup": "True",
         "hovertemplate": "PetalLengthCm=1.0<br>SepalLengthCm=%{x}<br>SepalWidthCm=%{y}<extra></extra>",
         "legendgroup": "1.0",
         "marker": {
          "color": "#B6E880"
         },
         "name": "1.0",
         "notched": false,
         "offsetgroup": "1.0",
         "orientation": "v",
         "showlegend": true,
         "type": "box",
         "x": [
          4.6
         ],
         "x0": " ",
         "xaxis": "x",
         "y": [
          3.6
         ],
         "y0": " ",
         "yaxis": "y"
        },
        {
         "alignmentgroup": "True",
         "hovertemplate": "PetalLengthCm=1.9<br>SepalLengthCm=%{x}<br>SepalWidthCm=%{y}<extra></extra>",
         "legendgroup": "1.9",
         "marker": {
          "color": "#FF97FF"
         },
         "name": "1.9",
         "notched": false,
         "offsetgroup": "1.9",
         "orientation": "v",
         "showlegend": true,
         "type": "box",
         "x": [
          4.8,
          5.1
         ],
         "x0": " ",
         "xaxis": "x",
         "y": [
          3.4,
          3.8
         ],
         "y0": " ",
         "yaxis": "y"
        },
        {
         "alignmentgroup": "True",
         "hovertemplate": "PetalLengthCm=4.7<br>SepalLengthCm=%{x}<br>SepalWidthCm=%{y}<extra></extra>",
         "legendgroup": "4.7",
         "marker": {
          "color": "#FECB52"
         },
         "name": "4.7",
         "notched": false,
         "offsetgroup": "4.7",
         "orientation": "v",
         "showlegend": true,
         "type": "box",
         "x": [
          7,
          6.3,
          6.1,
          6.1,
          6.7
         ],
         "x0": " ",
         "xaxis": "x",
         "y": [
          3.2,
          3.3,
          2.9,
          2.8,
          3.1
         ],
         "y0": " ",
         "yaxis": "y"
        },
        {
         "alignmentgroup": "True",
         "hovertemplate": "PetalLengthCm=4.5<br>SepalLengthCm=%{x}<br>SepalWidthCm=%{y}<extra></extra>",
         "legendgroup": "4.5",
         "marker": {
          "color": "#636efa"
         },
         "name": "4.5",
         "notched": false,
         "offsetgroup": "4.5",
         "orientation": "v",
         "showlegend": true,
         "type": "box",
         "x": [
          6.4,
          5.7,
          5.6,
          6.2,
          6,
          5.4,
          6,
          4.9
         ],
         "x0": " ",
         "xaxis": "x",
         "y": [
          3.2,
          2.8,
          3,
          2.2,
          2.9,
          3,
          3.4,
          2.5
         ],
         "y0": " ",
         "yaxis": "y"
        },
        {
         "alignmentgroup": "True",
         "hovertemplate": "PetalLengthCm=4.9<br>SepalLengthCm=%{x}<br>SepalWidthCm=%{y}<extra></extra>",
         "legendgroup": "4.9",
         "marker": {
          "color": "#EF553B"
         },
         "name": "4.9",
         "notched": false,
         "offsetgroup": "4.9",
         "orientation": "v",
         "showlegend": true,
         "type": "box",
         "x": [
          6.9,
          6.3,
          5.6,
          6.3,
          6.1
         ],
         "x0": " ",
         "xaxis": "x",
         "y": [
          3.1,
          2.5,
          2.8,
          2.7,
          3
         ],
         "y0": " ",
         "yaxis": "y"
        },
        {
         "alignmentgroup": "True",
         "hovertemplate": "PetalLengthCm=4.0<br>SepalLengthCm=%{x}<br>SepalWidthCm=%{y}<extra></extra>",
         "legendgroup": "4.0",
         "marker": {
          "color": "#00cc96"
         },
         "name": "4.0",
         "notched": false,
         "offsetgroup": "4.0",
         "orientation": "v",
         "showlegend": true,
         "type": "box",
         "x": [
          5.5,
          6,
          6.1,
          5.5,
          5.8
         ],
         "x0": " ",
         "xaxis": "x",
         "y": [
          2.3,
          2.2,
          2.8,
          2.5,
          2.6
         ],
         "y0": " ",
         "yaxis": "y"
        },
        {
         "alignmentgroup": "True",
         "hovertemplate": "PetalLengthCm=4.6<br>SepalLengthCm=%{x}<br>SepalWidthCm=%{y}<extra></extra>",
         "legendgroup": "4.6",
         "marker": {
          "color": "#ab63fa"
         },
         "name": "4.6",
         "notched": false,
         "offsetgroup": "4.6",
         "orientation": "v",
         "showlegend": true,
         "type": "box",
         "x": [
          6.5,
          6.6,
          6.1
         ],
         "x0": " ",
         "xaxis": "x",
         "y": [
          2.8,
          2.9,
          3
         ],
         "y0": " ",
         "yaxis": "y"
        },
        {
         "alignmentgroup": "True",
         "hovertemplate": "PetalLengthCm=3.3<br>SepalLengthCm=%{x}<br>SepalWidthCm=%{y}<extra></extra>",
         "legendgroup": "3.3",
         "marker": {
          "color": "#FFA15A"
         },
         "name": "3.3",
         "notched": false,
         "offsetgroup": "3.3",
         "orientation": "v",
         "showlegend": true,
         "type": "box",
         "x": [
          4.9,
          5
         ],
         "x0": " ",
         "xaxis": "x",
         "y": [
          2.4,
          2.3
         ],
         "y0": " ",
         "yaxis": "y"
        },
        {
         "alignmentgroup": "True",
         "hovertemplate": "PetalLengthCm=3.9<br>SepalLengthCm=%{x}<br>SepalWidthCm=%{y}<extra></extra>",
         "legendgroup": "3.9",
         "marker": {
          "color": "#19d3f3"
         },
         "name": "3.9",
         "notched": false,
         "offsetgroup": "3.9",
         "orientation": "v",
         "showlegend": true,
         "type": "box",
         "x": [
          5.2,
          5.6,
          5.8
         ],
         "x0": " ",
         "xaxis": "x",
         "y": [
          2.7,
          2.5,
          2.7
         ],
         "y0": " ",
         "yaxis": "y"
        },
        {
         "alignmentgroup": "True",
         "hovertemplate": "PetalLengthCm=3.5<br>SepalLengthCm=%{x}<br>SepalWidthCm=%{y}<extra></extra>",
         "legendgroup": "3.5",
         "marker": {
          "color": "#FF6692"
         },
         "name": "3.5",
         "notched": false,
         "offsetgroup": "3.5",
         "orientation": "v",
         "showlegend": true,
         "type": "box",
         "x": [
          5,
          5.7
         ],
         "x0": " ",
         "xaxis": "x",
         "y": [
          2,
          2.6
         ],
         "y0": " ",
         "yaxis": "y"
        },
        {
         "alignmentgroup": "True",
         "hovertemplate": "PetalLengthCm=4.2<br>SepalLengthCm=%{x}<br>SepalWidthCm=%{y}<extra></extra>",
         "legendgroup": "4.2",
         "marker": {
          "color": "#B6E880"
         },
         "name": "4.2",
         "notched": false,
         "offsetgroup": "4.2",
         "orientation": "v",
         "showlegend": true,
         "type": "box",
         "x": [
          5.9,
          5.6,
          5.7,
          5.7
         ],
         "x0": " ",
         "xaxis": "x",
         "y": [
          3,
          2.7,
          3,
          2.9
         ],
         "y0": " ",
         "yaxis": "y"
        },
        {
         "alignmentgroup": "True",
         "hovertemplate": "PetalLengthCm=3.6<br>SepalLengthCm=%{x}<br>SepalWidthCm=%{y}<extra></extra>",
         "legendgroup": "3.6",
         "marker": {
          "color": "#FF97FF"
         },
         "name": "3.6",
         "notched": false,
         "offsetgroup": "3.6",
         "orientation": "v",
         "showlegend": true,
         "type": "box",
         "x": [
          5.6
         ],
         "x0": " ",
         "xaxis": "x",
         "y": [
          2.9
         ],
         "y0": " ",
         "yaxis": "y"
        },
        {
         "alignmentgroup": "True",
         "hovertemplate": "PetalLengthCm=4.4<br>SepalLengthCm=%{x}<br>SepalWidthCm=%{y}<extra></extra>",
         "legendgroup": "4.4",
         "marker": {
          "color": "#FECB52"
         },
         "name": "4.4",
         "notched": false,
         "offsetgroup": "4.4",
         "orientation": "v",
         "showlegend": true,
         "type": "box",
         "x": [
          6.7,
          6.6,
          6.3,
          5.5
         ],
         "x0": " ",
         "xaxis": "x",
         "y": [
          3.1,
          3,
          2.3,
          2.6
         ],
         "y0": " ",
         "yaxis": "y"
        },
        {
         "alignmentgroup": "True",
         "hovertemplate": "PetalLengthCm=4.1<br>SepalLengthCm=%{x}<br>SepalWidthCm=%{y}<extra></extra>",
         "legendgroup": "4.1",
         "marker": {
          "color": "#636efa"
         },
         "name": "4.1",
         "notched": false,
         "offsetgroup": "4.1",
         "orientation": "v",
         "showlegend": true,
         "type": "box",
         "x": [
          5.8,
          5.6,
          5.7
         ],
         "x0": " ",
         "xaxis": "x",
         "y": [
          2.7,
          3,
          2.8
         ],
         "y0": " ",
         "yaxis": "y"
        },
        {
         "alignmentgroup": "True",
         "hovertemplate": "PetalLengthCm=4.8<br>SepalLengthCm=%{x}<br>SepalWidthCm=%{y}<extra></extra>",
         "legendgroup": "4.8",
         "marker": {
          "color": "#EF553B"
         },
         "name": "4.8",
         "notched": false,
         "offsetgroup": "4.8",
         "orientation": "v",
         "showlegend": true,
         "type": "box",
         "x": [
          5.9,
          6.8,
          6.2,
          6
         ],
         "x0": " ",
         "xaxis": "x",
         "y": [
          3.2,
          2.8,
          2.8,
          3
         ],
         "y0": " ",
         "yaxis": "y"
        },
        {
         "alignmentgroup": "True",
         "hovertemplate": "PetalLengthCm=4.3<br>SepalLengthCm=%{x}<br>SepalWidthCm=%{y}<extra></extra>",
         "legendgroup": "4.3",
         "marker": {
          "color": "#00cc96"
         },
         "name": "4.3",
         "notched": false,
         "offsetgroup": "4.3",
         "orientation": "v",
         "showlegend": true,
         "type": "box",
         "x": [
          6.4,
          6.2
         ],
         "x0": " ",
         "xaxis": "x",
         "y": [
          2.9,
          2.9
         ],
         "y0": " ",
         "yaxis": "y"
        },
        {
         "alignmentgroup": "True",
         "hovertemplate": "PetalLengthCm=5.0<br>SepalLengthCm=%{x}<br>SepalWidthCm=%{y}<extra></extra>",
         "legendgroup": "5.0",
         "marker": {
          "color": "#ab63fa"
         },
         "name": "5.0",
         "notched": false,
         "offsetgroup": "5.0",
         "orientation": "v",
         "showlegend": true,
         "type": "box",
         "x": [
          6.7,
          5.7,
          6,
          6.3
         ],
         "x0": " ",
         "xaxis": "x",
         "y": [
          3,
          2.5,
          2.2,
          2.5
         ],
         "y0": " ",
         "yaxis": "y"
        },
        {
         "alignmentgroup": "True",
         "hovertemplate": "PetalLengthCm=3.8<br>SepalLengthCm=%{x}<br>SepalWidthCm=%{y}<extra></extra>",
         "legendgroup": "3.8",
         "marker": {
          "color": "#FFA15A"
         },
         "name": "3.8",
         "notched": false,
         "offsetgroup": "3.8",
         "orientation": "v",
         "showlegend": true,
         "type": "box",
         "x": [
          5.5
         ],
         "x0": " ",
         "xaxis": "x",
         "y": [
          2.4
         ],
         "y0": " ",
         "yaxis": "y"
        },
        {
         "alignmentgroup": "True",
         "hovertemplate": "PetalLengthCm=3.7<br>SepalLengthCm=%{x}<br>SepalWidthCm=%{y}<extra></extra>",
         "legendgroup": "3.7",
         "marker": {
          "color": "#19d3f3"
         },
         "name": "3.7",
         "notched": false,
         "offsetgroup": "3.7",
         "orientation": "v",
         "showlegend": true,
         "type": "box",
         "x": [
          5.5
         ],
         "x0": " ",
         "xaxis": "x",
         "y": [
          2.4
         ],
         "y0": " ",
         "yaxis": "y"
        },
        {
         "alignmentgroup": "True",
         "hovertemplate": "PetalLengthCm=5.1<br>SepalLengthCm=%{x}<br>SepalWidthCm=%{y}<extra></extra>",
         "legendgroup": "5.1",
         "marker": {
          "color": "#FF6692"
         },
         "name": "5.1",
         "notched": false,
         "offsetgroup": "5.1",
         "orientation": "v",
         "showlegend": true,
         "type": "box",
         "x": [
          6,
          5.8,
          6.5,
          5.8,
          6.3,
          6.9,
          5.8,
          5.9
         ],
         "x0": " ",
         "xaxis": "x",
         "y": [
          2.7,
          2.7,
          3.2,
          2.8,
          2.8,
          3.1,
          2.7,
          3
         ],
         "y0": " ",
         "yaxis": "y"
        },
        {
         "alignmentgroup": "True",
         "hovertemplate": "PetalLengthCm=3.0<br>SepalLengthCm=%{x}<br>SepalWidthCm=%{y}<extra></extra>",
         "legendgroup": "3.0",
         "marker": {
          "color": "#B6E880"
         },
         "name": "3.0",
         "notched": false,
         "offsetgroup": "3.0",
         "orientation": "v",
         "showlegend": true,
         "type": "box",
         "x": [
          5.1
         ],
         "x0": " ",
         "xaxis": "x",
         "y": [
          2.5
         ],
         "y0": " ",
         "yaxis": "y"
        },
        {
         "alignmentgroup": "True",
         "hovertemplate": "PetalLengthCm=6.0<br>SepalLengthCm=%{x}<br>SepalWidthCm=%{y}<extra></extra>",
         "legendgroup": "6.0",
         "marker": {
          "color": "#FF97FF"
         },
         "name": "6.0",
         "notched": false,
         "offsetgroup": "6.0",
         "orientation": "v",
         "showlegend": true,
         "type": "box",
         "x": [
          6.3,
          7.2
         ],
         "x0": " ",
         "xaxis": "x",
         "y": [
          3.3,
          3.2
         ],
         "y0": " ",
         "yaxis": "y"
        },
        {
         "alignmentgroup": "True",
         "hovertemplate": "PetalLengthCm=5.9<br>SepalLengthCm=%{x}<br>SepalWidthCm=%{y}<extra></extra>",
         "legendgroup": "5.9",
         "marker": {
          "color": "#FECB52"
         },
         "name": "5.9",
         "notched": false,
         "offsetgroup": "5.9",
         "orientation": "v",
         "showlegend": true,
         "type": "box",
         "x": [
          7.1,
          6.8
         ],
         "x0": " ",
         "xaxis": "x",
         "y": [
          3,
          3.2
         ],
         "y0": " ",
         "yaxis": "y"
        },
        {
         "alignmentgroup": "True",
         "hovertemplate": "PetalLengthCm=5.6<br>SepalLengthCm=%{x}<br>SepalWidthCm=%{y}<extra></extra>",
         "legendgroup": "5.6",
         "marker": {
          "color": "#636efa"
         },
         "name": "5.6",
         "notched": false,
         "offsetgroup": "5.6",
         "orientation": "v",
         "showlegend": true,
         "type": "box",
         "x": [
          6.3,
          6.4,
          6.4,
          6.1,
          6.3,
          6.7
         ],
         "x0": " ",
         "xaxis": "x",
         "y": [
          2.9,
          2.8,
          2.8,
          2.6,
          3.4,
          3.1
         ],
         "y0": " ",
         "yaxis": "y"
        },
        {
         "alignmentgroup": "True",
         "hovertemplate": "PetalLengthCm=5.8<br>SepalLengthCm=%{x}<br>SepalWidthCm=%{y}<extra></extra>",
         "legendgroup": "5.8",
         "marker": {
          "color": "#EF553B"
         },
         "name": "5.8",
         "notched": false,
         "offsetgroup": "5.8",
         "orientation": "v",
         "showlegend": true,
         "type": "box",
         "x": [
          6.5,
          6.7,
          7.2
         ],
         "x0": " ",
         "xaxis": "x",
         "y": [
          3,
          2.5,
          3
         ],
         "y0": " ",
         "yaxis": "y"
        },
        {
         "alignmentgroup": "True",
         "hovertemplate": "PetalLengthCm=6.6<br>SepalLengthCm=%{x}<br>SepalWidthCm=%{y}<extra></extra>",
         "legendgroup": "6.6",
         "marker": {
          "color": "#00cc96"
         },
         "name": "6.6",
         "notched": false,
         "offsetgroup": "6.6",
         "orientation": "v",
         "showlegend": true,
         "type": "box",
         "x": [
          7.6
         ],
         "x0": " ",
         "xaxis": "x",
         "y": [
          3
         ],
         "y0": " ",
         "yaxis": "y"
        },
        {
         "alignmentgroup": "True",
         "hovertemplate": "PetalLengthCm=6.3<br>SepalLengthCm=%{x}<br>SepalWidthCm=%{y}<extra></extra>",
         "legendgroup": "6.3",
         "marker": {
          "color": "#ab63fa"
         },
         "name": "6.3",
         "notched": false,
         "offsetgroup": "6.3",
         "orientation": "v",
         "showlegend": true,
         "type": "box",
         "x": [
          7.3
         ],
         "x0": " ",
         "xaxis": "x",
         "y": [
          2.9
         ],
         "y0": " ",
         "yaxis": "y"
        },
        {
         "alignmentgroup": "True",
         "hovertemplate": "PetalLengthCm=6.1<br>SepalLengthCm=%{x}<br>SepalWidthCm=%{y}<extra></extra>",
         "legendgroup": "6.1",
         "marker": {
          "color": "#FFA15A"
         },
         "name": "6.1",
         "notched": false,
         "offsetgroup": "6.1",
         "orientation": "v",
         "showlegend": true,
         "type": "box",
         "x": [
          7.2,
          7.4,
          7.7
         ],
         "x0": " ",
         "xaxis": "x",
         "y": [
          3.6,
          2.8,
          3
         ],
         "y0": " ",
         "yaxis": "y"
        },
        {
         "alignmentgroup": "True",
         "hovertemplate": "PetalLengthCm=5.3<br>SepalLengthCm=%{x}<br>SepalWidthCm=%{y}<extra></extra>",
         "legendgroup": "5.3",
         "marker": {
          "color": "#19d3f3"
         },
         "name": "5.3",
         "notched": false,
         "offsetgroup": "5.3",
         "orientation": "v",
         "showlegend": true,
         "type": "box",
         "x": [
          6.4,
          6.4
         ],
         "x0": " ",
         "xaxis": "x",
         "y": [
          2.7,
          3.2
         ],
         "y0": " ",
         "yaxis": "y"
        },
        {
         "alignmentgroup": "True",
         "hovertemplate": "PetalLengthCm=5.5<br>SepalLengthCm=%{x}<br>SepalWidthCm=%{y}<extra></extra>",
         "legendgroup": "5.5",
         "marker": {
          "color": "#FF6692"
         },
         "name": "5.5",
         "notched": false,
         "offsetgroup": "5.5",
         "orientation": "v",
         "showlegend": true,
         "type": "box",
         "x": [
          6.8,
          6.5,
          6.4
         ],
         "x0": " ",
         "xaxis": "x",
         "y": [
          3,
          3,
          3.1
         ],
         "y0": " ",
         "yaxis": "y"
        },
        {
         "alignmentgroup": "True",
         "hovertemplate": "PetalLengthCm=6.7<br>SepalLengthCm=%{x}<br>SepalWidthCm=%{y}<extra></extra>",
         "legendgroup": "6.7",
         "marker": {
          "color": "#B6E880"
         },
         "name": "6.7",
         "notched": false,
         "offsetgroup": "6.7",
         "orientation": "v",
         "showlegend": true,
         "type": "box",
         "x": [
          7.7,
          7.7
         ],
         "x0": " ",
         "xaxis": "x",
         "y": [
          3.8,
          2.8
         ],
         "y0": " ",
         "yaxis": "y"
        },
        {
         "alignmentgroup": "True",
         "hovertemplate": "PetalLengthCm=6.9<br>SepalLengthCm=%{x}<br>SepalWidthCm=%{y}<extra></extra>",
         "legendgroup": "6.9",
         "marker": {
          "color": "#FF97FF"
         },
         "name": "6.9",
         "notched": false,
         "offsetgroup": "6.9",
         "orientation": "v",
         "showlegend": true,
         "type": "box",
         "x": [
          7.7
         ],
         "x0": " ",
         "xaxis": "x",
         "y": [
          2.6
         ],
         "y0": " ",
         "yaxis": "y"
        },
        {
         "alignmentgroup": "True",
         "hovertemplate": "PetalLengthCm=5.7<br>SepalLengthCm=%{x}<br>SepalWidthCm=%{y}<extra></extra>",
         "legendgroup": "5.7",
         "marker": {
          "color": "#FECB52"
         },
         "name": "5.7",
         "notched": false,
         "offsetgroup": "5.7",
         "orientation": "v",
         "showlegend": true,
         "type": "box",
         "x": [
          6.9,
          6.7,
          6.7
         ],
         "x0": " ",
         "xaxis": "x",
         "y": [
          3.2,
          3.3,
          3.3
         ],
         "y0": " ",
         "yaxis": "y"
        },
        {
         "alignmentgroup": "True",
         "hovertemplate": "PetalLengthCm=6.4<br>SepalLengthCm=%{x}<br>SepalWidthCm=%{y}<extra></extra>",
         "legendgroup": "6.4",
         "marker": {
          "color": "#636efa"
         },
         "name": "6.4",
         "notched": false,
         "offsetgroup": "6.4",
         "orientation": "v",
         "showlegend": true,
         "type": "box",
         "x": [
          7.9
         ],
         "x0": " ",
         "xaxis": "x",
         "y": [
          3.8
         ],
         "y0": " ",
         "yaxis": "y"
        },
        {
         "alignmentgroup": "True",
         "hovertemplate": "PetalLengthCm=5.4<br>SepalLengthCm=%{x}<br>SepalWidthCm=%{y}<extra></extra>",
         "legendgroup": "5.4",
         "marker": {
          "color": "#EF553B"
         },
         "name": "5.4",
         "notched": false,
         "offsetgroup": "5.4",
         "orientation": "v",
         "showlegend": true,
         "type": "box",
         "x": [
          6.9,
          6.2
         ],
         "x0": " ",
         "xaxis": "x",
         "y": [
          3.1,
          3.4
         ],
         "y0": " ",
         "yaxis": "y"
        },
        {
         "alignmentgroup": "True",
         "hovertemplate": "PetalLengthCm=5.2<br>SepalLengthCm=%{x}<br>SepalWidthCm=%{y}<extra></extra>",
         "legendgroup": "5.2",
         "marker": {
          "color": "#00cc96"
         },
         "name": "5.2",
         "notched": false,
         "offsetgroup": "5.2",
         "orientation": "v",
         "showlegend": true,
         "type": "box",
         "x": [
          6.7,
          6.5
         ],
         "x0": " ",
         "xaxis": "x",
         "y": [
          3,
          3
         ],
         "y0": " ",
         "yaxis": "y"
        }
       ],
       "layout": {
        "boxmode": "group",
        "legend": {
         "title": {
          "text": "PetalLengthCm"
         },
         "tracegroupgap": 0
        },
        "template": {
         "data": {
          "bar": [
           {
            "error_x": {
             "color": "#2a3f5f"
            },
            "error_y": {
             "color": "#2a3f5f"
            },
            "marker": {
             "line": {
              "color": "#E5ECF6",
              "width": 0.5
             },
             "pattern": {
              "fillmode": "overlay",
              "size": 10,
              "solidity": 0.2
             }
            },
            "type": "bar"
           }
          ],
          "barpolar": [
           {
            "marker": {
             "line": {
              "color": "#E5ECF6",
              "width": 0.5
             },
             "pattern": {
              "fillmode": "overlay",
              "size": 10,
              "solidity": 0.2
             }
            },
            "type": "barpolar"
           }
          ],
          "carpet": [
           {
            "aaxis": {
             "endlinecolor": "#2a3f5f",
             "gridcolor": "white",
             "linecolor": "white",
             "minorgridcolor": "white",
             "startlinecolor": "#2a3f5f"
            },
            "baxis": {
             "endlinecolor": "#2a3f5f",
             "gridcolor": "white",
             "linecolor": "white",
             "minorgridcolor": "white",
             "startlinecolor": "#2a3f5f"
            },
            "type": "carpet"
           }
          ],
          "choropleth": [
           {
            "colorbar": {
             "outlinewidth": 0,
             "ticks": ""
            },
            "type": "choropleth"
           }
          ],
          "contour": [
           {
            "colorbar": {
             "outlinewidth": 0,
             "ticks": ""
            },
            "colorscale": [
             [
              0,
              "#0d0887"
             ],
             [
              0.1111111111111111,
              "#46039f"
             ],
             [
              0.2222222222222222,
              "#7201a8"
             ],
             [
              0.3333333333333333,
              "#9c179e"
             ],
             [
              0.4444444444444444,
              "#bd3786"
             ],
             [
              0.5555555555555556,
              "#d8576b"
             ],
             [
              0.6666666666666666,
              "#ed7953"
             ],
             [
              0.7777777777777778,
              "#fb9f3a"
             ],
             [
              0.8888888888888888,
              "#fdca26"
             ],
             [
              1,
              "#f0f921"
             ]
            ],
            "type": "contour"
           }
          ],
          "contourcarpet": [
           {
            "colorbar": {
             "outlinewidth": 0,
             "ticks": ""
            },
            "type": "contourcarpet"
           }
          ],
          "heatmap": [
           {
            "colorbar": {
             "outlinewidth": 0,
             "ticks": ""
            },
            "colorscale": [
             [
              0,
              "#0d0887"
             ],
             [
              0.1111111111111111,
              "#46039f"
             ],
             [
              0.2222222222222222,
              "#7201a8"
             ],
             [
              0.3333333333333333,
              "#9c179e"
             ],
             [
              0.4444444444444444,
              "#bd3786"
             ],
             [
              0.5555555555555556,
              "#d8576b"
             ],
             [
              0.6666666666666666,
              "#ed7953"
             ],
             [
              0.7777777777777778,
              "#fb9f3a"
             ],
             [
              0.8888888888888888,
              "#fdca26"
             ],
             [
              1,
              "#f0f921"
             ]
            ],
            "type": "heatmap"
           }
          ],
          "heatmapgl": [
           {
            "colorbar": {
             "outlinewidth": 0,
             "ticks": ""
            },
            "colorscale": [
             [
              0,
              "#0d0887"
             ],
             [
              0.1111111111111111,
              "#46039f"
             ],
             [
              0.2222222222222222,
              "#7201a8"
             ],
             [
              0.3333333333333333,
              "#9c179e"
             ],
             [
              0.4444444444444444,
              "#bd3786"
             ],
             [
              0.5555555555555556,
              "#d8576b"
             ],
             [
              0.6666666666666666,
              "#ed7953"
             ],
             [
              0.7777777777777778,
              "#fb9f3a"
             ],
             [
              0.8888888888888888,
              "#fdca26"
             ],
             [
              1,
              "#f0f921"
             ]
            ],
            "type": "heatmapgl"
           }
          ],
          "histogram": [
           {
            "marker": {
             "pattern": {
              "fillmode": "overlay",
              "size": 10,
              "solidity": 0.2
             }
            },
            "type": "histogram"
           }
          ],
          "histogram2d": [
           {
            "colorbar": {
             "outlinewidth": 0,
             "ticks": ""
            },
            "colorscale": [
             [
              0,
              "#0d0887"
             ],
             [
              0.1111111111111111,
              "#46039f"
             ],
             [
              0.2222222222222222,
              "#7201a8"
             ],
             [
              0.3333333333333333,
              "#9c179e"
             ],
             [
              0.4444444444444444,
              "#bd3786"
             ],
             [
              0.5555555555555556,
              "#d8576b"
             ],
             [
              0.6666666666666666,
              "#ed7953"
             ],
             [
              0.7777777777777778,
              "#fb9f3a"
             ],
             [
              0.8888888888888888,
              "#fdca26"
             ],
             [
              1,
              "#f0f921"
             ]
            ],
            "type": "histogram2d"
           }
          ],
          "histogram2dcontour": [
           {
            "colorbar": {
             "outlinewidth": 0,
             "ticks": ""
            },
            "colorscale": [
             [
              0,
              "#0d0887"
             ],
             [
              0.1111111111111111,
              "#46039f"
             ],
             [
              0.2222222222222222,
              "#7201a8"
             ],
             [
              0.3333333333333333,
              "#9c179e"
             ],
             [
              0.4444444444444444,
              "#bd3786"
             ],
             [
              0.5555555555555556,
              "#d8576b"
             ],
             [
              0.6666666666666666,
              "#ed7953"
             ],
             [
              0.7777777777777778,
              "#fb9f3a"
             ],
             [
              0.8888888888888888,
              "#fdca26"
             ],
             [
              1,
              "#f0f921"
             ]
            ],
            "type": "histogram2dcontour"
           }
          ],
          "mesh3d": [
           {
            "colorbar": {
             "outlinewidth": 0,
             "ticks": ""
            },
            "type": "mesh3d"
           }
          ],
          "parcoords": [
           {
            "line": {
             "colorbar": {
              "outlinewidth": 0,
              "ticks": ""
             }
            },
            "type": "parcoords"
           }
          ],
          "pie": [
           {
            "automargin": true,
            "type": "pie"
           }
          ],
          "scatter": [
           {
            "fillpattern": {
             "fillmode": "overlay",
             "size": 10,
             "solidity": 0.2
            },
            "type": "scatter"
           }
          ],
          "scatter3d": [
           {
            "line": {
             "colorbar": {
              "outlinewidth": 0,
              "ticks": ""
             }
            },
            "marker": {
             "colorbar": {
              "outlinewidth": 0,
              "ticks": ""
             }
            },
            "type": "scatter3d"
           }
          ],
          "scattercarpet": [
           {
            "marker": {
             "colorbar": {
              "outlinewidth": 0,
              "ticks": ""
             }
            },
            "type": "scattercarpet"
           }
          ],
          "scattergeo": [
           {
            "marker": {
             "colorbar": {
              "outlinewidth": 0,
              "ticks": ""
             }
            },
            "type": "scattergeo"
           }
          ],
          "scattergl": [
           {
            "marker": {
             "colorbar": {
              "outlinewidth": 0,
              "ticks": ""
             }
            },
            "type": "scattergl"
           }
          ],
          "scattermapbox": [
           {
            "marker": {
             "colorbar": {
              "outlinewidth": 0,
              "ticks": ""
             }
            },
            "type": "scattermapbox"
           }
          ],
          "scatterpolar": [
           {
            "marker": {
             "colorbar": {
              "outlinewidth": 0,
              "ticks": ""
             }
            },
            "type": "scatterpolar"
           }
          ],
          "scatterpolargl": [
           {
            "marker": {
             "colorbar": {
              "outlinewidth": 0,
              "ticks": ""
             }
            },
            "type": "scatterpolargl"
           }
          ],
          "scatterternary": [
           {
            "marker": {
             "colorbar": {
              "outlinewidth": 0,
              "ticks": ""
             }
            },
            "type": "scatterternary"
           }
          ],
          "surface": [
           {
            "colorbar": {
             "outlinewidth": 0,
             "ticks": ""
            },
            "colorscale": [
             [
              0,
              "#0d0887"
             ],
             [
              0.1111111111111111,
              "#46039f"
             ],
             [
              0.2222222222222222,
              "#7201a8"
             ],
             [
              0.3333333333333333,
              "#9c179e"
             ],
             [
              0.4444444444444444,
              "#bd3786"
             ],
             [
              0.5555555555555556,
              "#d8576b"
             ],
             [
              0.6666666666666666,
              "#ed7953"
             ],
             [
              0.7777777777777778,
              "#fb9f3a"
             ],
             [
              0.8888888888888888,
              "#fdca26"
             ],
             [
              1,
              "#f0f921"
             ]
            ],
            "type": "surface"
           }
          ],
          "table": [
           {
            "cells": {
             "fill": {
              "color": "#EBF0F8"
             },
             "line": {
              "color": "white"
             }
            },
            "header": {
             "fill": {
              "color": "#C8D4E3"
             },
             "line": {
              "color": "white"
             }
            },
            "type": "table"
           }
          ]
         },
         "layout": {
          "annotationdefaults": {
           "arrowcolor": "#2a3f5f",
           "arrowhead": 0,
           "arrowwidth": 1
          },
          "autotypenumbers": "strict",
          "coloraxis": {
           "colorbar": {
            "outlinewidth": 0,
            "ticks": ""
           }
          },
          "colorscale": {
           "diverging": [
            [
             0,
             "#8e0152"
            ],
            [
             0.1,
             "#c51b7d"
            ],
            [
             0.2,
             "#de77ae"
            ],
            [
             0.3,
             "#f1b6da"
            ],
            [
             0.4,
             "#fde0ef"
            ],
            [
             0.5,
             "#f7f7f7"
            ],
            [
             0.6,
             "#e6f5d0"
            ],
            [
             0.7,
             "#b8e186"
            ],
            [
             0.8,
             "#7fbc41"
            ],
            [
             0.9,
             "#4d9221"
            ],
            [
             1,
             "#276419"
            ]
           ],
           "sequential": [
            [
             0,
             "#0d0887"
            ],
            [
             0.1111111111111111,
             "#46039f"
            ],
            [
             0.2222222222222222,
             "#7201a8"
            ],
            [
             0.3333333333333333,
             "#9c179e"
            ],
            [
             0.4444444444444444,
             "#bd3786"
            ],
            [
             0.5555555555555556,
             "#d8576b"
            ],
            [
             0.6666666666666666,
             "#ed7953"
            ],
            [
             0.7777777777777778,
             "#fb9f3a"
            ],
            [
             0.8888888888888888,
             "#fdca26"
            ],
            [
             1,
             "#f0f921"
            ]
           ],
           "sequentialminus": [
            [
             0,
             "#0d0887"
            ],
            [
             0.1111111111111111,
             "#46039f"
            ],
            [
             0.2222222222222222,
             "#7201a8"
            ],
            [
             0.3333333333333333,
             "#9c179e"
            ],
            [
             0.4444444444444444,
             "#bd3786"
            ],
            [
             0.5555555555555556,
             "#d8576b"
            ],
            [
             0.6666666666666666,
             "#ed7953"
            ],
            [
             0.7777777777777778,
             "#fb9f3a"
            ],
            [
             0.8888888888888888,
             "#fdca26"
            ],
            [
             1,
             "#f0f921"
            ]
           ]
          },
          "colorway": [
           "#636efa",
           "#EF553B",
           "#00cc96",
           "#ab63fa",
           "#FFA15A",
           "#19d3f3",
           "#FF6692",
           "#B6E880",
           "#FF97FF",
           "#FECB52"
          ],
          "font": {
           "color": "#2a3f5f"
          },
          "geo": {
           "bgcolor": "white",
           "lakecolor": "white",
           "landcolor": "#E5ECF6",
           "showlakes": true,
           "showland": true,
           "subunitcolor": "white"
          },
          "hoverlabel": {
           "align": "left"
          },
          "hovermode": "closest",
          "mapbox": {
           "style": "light"
          },
          "paper_bgcolor": "white",
          "plot_bgcolor": "#E5ECF6",
          "polar": {
           "angularaxis": {
            "gridcolor": "white",
            "linecolor": "white",
            "ticks": ""
           },
           "bgcolor": "#E5ECF6",
           "radialaxis": {
            "gridcolor": "white",
            "linecolor": "white",
            "ticks": ""
           }
          },
          "scene": {
           "xaxis": {
            "backgroundcolor": "#E5ECF6",
            "gridcolor": "white",
            "gridwidth": 2,
            "linecolor": "white",
            "showbackground": true,
            "ticks": "",
            "zerolinecolor": "white"
           },
           "yaxis": {
            "backgroundcolor": "#E5ECF6",
            "gridcolor": "white",
            "gridwidth": 2,
            "linecolor": "white",
            "showbackground": true,
            "ticks": "",
            "zerolinecolor": "white"
           },
           "zaxis": {
            "backgroundcolor": "#E5ECF6",
            "gridcolor": "white",
            "gridwidth": 2,
            "linecolor": "white",
            "showbackground": true,
            "ticks": "",
            "zerolinecolor": "white"
           }
          },
          "shapedefaults": {
           "line": {
            "color": "#2a3f5f"
           }
          },
          "ternary": {
           "aaxis": {
            "gridcolor": "white",
            "linecolor": "white",
            "ticks": ""
           },
           "baxis": {
            "gridcolor": "white",
            "linecolor": "white",
            "ticks": ""
           },
           "bgcolor": "#E5ECF6",
           "caxis": {
            "gridcolor": "white",
            "linecolor": "white",
            "ticks": ""
           }
          },
          "title": {
           "x": 0.05
          },
          "xaxis": {
           "automargin": true,
           "gridcolor": "white",
           "linecolor": "white",
           "ticks": "",
           "title": {
            "standoff": 15
           },
           "zerolinecolor": "white",
           "zerolinewidth": 2
          },
          "yaxis": {
           "automargin": true,
           "gridcolor": "white",
           "linecolor": "white",
           "ticks": "",
           "title": {
            "standoff": 15
           },
           "zerolinecolor": "white",
           "zerolinewidth": 2
          }
         }
        },
        "title": {
         "text": " Distribution by SepalLengthCm, SepalWidthCm and PetalLengthCm"
        },
        "xaxis": {
         "anchor": "y",
         "domain": [
          0,
          1
         ],
         "title": {
          "text": "SepalLengthCm"
         }
        },
        "yaxis": {
         "anchor": "x",
         "domain": [
          0,
          1
         ],
         "title": {
          "text": "SepalWidthCm"
         }
        }
       }
      }
     },
     "metadata": {},
     "output_type": "display_data"
    }
   ],
   "source": [
    "import plotly.express as px\n",
    "\n",
    "\n",
    "boxplot_data = data[['SepalLengthCm', 'SepalWidthCm', 'PetalLengthCm']]\n",
    "\n",
    "# Create the interactive boxplot using Plotly Express\n",
    "fig = px.box(boxplot_data, x='SepalLengthCm', y='SepalWidthCm', color='PetalLengthCm', title=' Distribution by SepalLengthCm, SepalWidthCm and PetalLengthCm')\n",
    "\n",
    "\n",
    "# Display the figure\n",
    "fig.show()"
   ]
  },
  {
   "cell_type": "code",
   "execution_count": 8,
   "id": "9184af97",
   "metadata": {},
   "outputs": [
    {
     "data": {
      "image/png": "[encoded data removed]",
      "text/plain": [
       "<Figure size 1000x600 with 1 Axes>"
      ]
     },
     "metadata": {},
     "output_type": "display_data"
    }
   ],
   "source": [
    "import seaborn as sns\n",
    "import matplotlib.pyplot as plt\n",
    "# Group data by age_group and calculate mean following_rate for each group\n",
    "following_rate_by_age_group = data.groupby('SepalLengthCm')['PetalLengthCm'].mean().reset_index()\n",
    "\n",
    "# Set up the plot\n",
    "plt.figure(figsize=(10, 6))\n",
    "sns.barplot(x='SepalLengthCm', y='PetalLengthCm', data=following_rate_by_age_group, palette='viridis')\n",
    "\n",
    "# Customize plot elements\n",
    "plt.xlabel('SepalLengthCm')\n",
    "plt.ylabel('PetalLengthCm')\n",
    "plt.title('Sepal and Petal Length')\n",
    "plt.xticks(rotation=45)\n",
    "\n",
    "\n",
    "\n",
    "# Show gridlines\n",
    "plt.grid(axis='y', linestyle='--')\n",
    "\n",
    "# Show the plot\n",
    "plt.tight_layout()\n",
    "plt.show()"
   ]
  },
  {
   "cell_type": "code",
   "execution_count": 9,
   "id": "618797e3",
   "metadata": {},
   "outputs": [
    {
     "data": {
      "text/plain": [
       "<Axes: xlabel='Species', ylabel='PetalLengthCm'>"
      ]
     },
     "execution_count": 9,
     "metadata": {},
     "output_type": "execute_result"
    },
    {
     "data": {
      "image/png": "[encoded data removed]",
      "text/plain": [
       "<Figure size 640x480 with 1 Axes>"
      ]
     },
     "metadata": {},
     "output_type": "display_data"
    }
   ],
   "source": [
    "\n",
    "sns.scatterplot(x=data['Species'], y=data['PetalLengthCm'], hue=data['SepalLengthCm'])"
   ]
  },
  {
   "cell_type": "code",
   "execution_count": 11,
   "id": "54e4947f",
   "metadata": {},
   "outputs": [
    {
     "data": {
      "text/html": [
       "<div>\n",
       "<style scoped>\n",
       "    .dataframe tbody tr th:only-of-type {\n",
       "        vertical-align: middle;\n",
       "    }\n",
       "\n",
       "    .dataframe tbody tr th {\n",
       "        vertical-align: top;\n",
       "    }\n",
       "\n",
       "    .dataframe thead th {\n",
       "        text-align: right;\n",
       "    }\n",
       "</style>\n",
       "<table border=\"1\" class=\"dataframe\">\n",
       "  <thead>\n",
       "    <tr style=\"text-align: right;\">\n",
       "      <th></th>\n",
       "      <th>Speciescount</th>\n",
       "      <th>Count</th>\n",
       "    </tr>\n",
       "  </thead>\n",
       "  <tbody>\n",
       "    <tr>\n",
       "      <th>0</th>\n",
       "      <td>Iris-setosa</td>\n",
       "      <td>50</td>\n",
       "    </tr>\n",
       "    <tr>\n",
       "      <th>1</th>\n",
       "      <td>Iris-versicolor</td>\n",
       "      <td>50</td>\n",
       "    </tr>\n",
       "    <tr>\n",
       "      <th>2</th>\n",
       "      <td>Iris-virginica</td>\n",
       "      <td>50</td>\n",
       "    </tr>\n",
       "  </tbody>\n",
       "</table>\n",
       "</div>"
      ],
      "text/plain": [
       "      Speciescount  Count\n",
       "0      Iris-setosa     50\n",
       "1  Iris-versicolor     50\n",
       "2   Iris-virginica     50"
      ]
     },
     "execution_count": 11,
     "metadata": {},
     "output_type": "execute_result"
    }
   ],
   "source": [
    "ndata = data.groupby('Species').size().rename_axis('Speciescount').reset_index(name='Count')\n",
    "ndata.head()"
   ]
  },
  {
   "cell_type": "code",
   "execution_count": 12,
   "id": "5745598e",
   "metadata": {},
   "outputs": [
    {
     "data": {
      "image/png": "[encoded data removed]",
      "text/plain": [
       "<Figure size 500x400 with 1 Axes>"
      ]
     },
     "metadata": {},
     "output_type": "display_data"
    }
   ],
   "source": [
    "labels = ndata.Speciescount\n",
    "values = ndata.Count\n",
    "\n",
    "plt.figure(figsize=(5,4))\n",
    "plt.pie(values, labels=labels, \n",
    "        labeldistance=1.15, \n",
    "        wedgeprops = { 'linewidth' : 3, 'edgecolor' : 'white' }, \n",
    "        autopct='%1.1f%%');\n",
    "plt.title(\"Custom Color\", size=15)\n",
    "plt.show();"
   ]
  },
  {
   "cell_type": "code",
   "execution_count": 13,
   "id": "13d7b6f7",
   "metadata": {},
   "outputs": [],
   "source": [
    "from sklearn.linear_model import LogisticRegression\n",
    "from sklearn.metrics import accuracy_score\n",
    "from sklearn.model_selection import train_test_split\n",
    "X = data.drop(columns='Species', axis =1)\n",
    "Y = data['Species']"
   ]
  },
  {
   "cell_type": "code",
   "execution_count": 14,
   "id": "1fa5a6eb",
   "metadata": {},
   "outputs": [
    {
     "name": "stderr",
     "output_type": "stream",
     "text": [
      "c:\\Users\\ACER\\anaconda3\\Lib\\site-packages\\sklearn\\linear_model\\_logistic.py:460: ConvergenceWarning:\n",
      "\n",
      "lbfgs failed to converge (status=1):\n",
      "STOP: TOTAL NO. of ITERATIONS REACHED LIMIT.\n",
      "\n",
      "Increase the number of iterations (max_iter) or scale the data as shown in:\n",
      "    https://scikit-learn.org/stable/modules/preprocessing.html\n",
      "Please also refer to the documentation for alternative solver options:\n",
      "    https://scikit-learn.org/stable/modules/linear_model.html#logistic-regression\n",
      "\n"
     ]
    },
    {
     "data": {
      "text/html": [
       "<style>#sk-container-id-1 {color: black;}#sk-container-id-1 pre{padding: 0;}#sk-container-id-1 div.sk-toggleable {background-color: white;}#sk-container-id-1 label.sk-toggleable__label {cursor: pointer;display: block;width: 100%;margin-bottom: 0;padding: 0.3em;box-sizing: border-box;text-align: center;}#sk-container-id-1 label.sk-toggleable__label-arrow:before {content: \"▸\";float: left;margin-right: 0.25em;color: #696969;}#sk-container-id-1 label.sk-toggleable__label-arrow:hover:before {color: black;}#sk-container-id-1 div.sk-estimator:hover label.sk-toggleable__label-arrow:before {color: black;}#sk-container-id-1 div.sk-toggleable__content {max-height: 0;max-width: 0;overflow: hidden;text-align: left;background-color: #f0f8ff;}#sk-container-id-1 div.sk-toggleable__content pre {margin: 0.2em;color: black;border-radius: 0.25em;background-color: #f0f8ff;}#sk-container-id-1 input.sk-toggleable__control:checked~div.sk-toggleable__content {max-height: 200px;max-width: 100%;overflow: auto;}#sk-container-id-1 input.sk-toggleable__control:checked~label.sk-toggleable__label-arrow:before {content: \"▾\";}#sk-container-id-1 div.sk-estimator input.sk-toggleable__control:checked~label.sk-toggleable__label {background-color: #d4ebff;}#sk-container-id-1 div.sk-label input.sk-toggleable__control:checked~label.sk-toggleable__label {background-color: #d4ebff;}#sk-container-id-1 input.sk-hidden--visually {border: 0;clip: rect(1px 1px 1px 1px);clip: rect(1px, 1px, 1px, 1px);height: 1px;margin: -1px;overflow: hidden;padding: 0;position: absolute;width: 1px;}#sk-container-id-1 div.sk-estimator {font-family: monospace;background-color: #f0f8ff;border: 1px dotted black;border-radius: 0.25em;box-sizing: border-box;margin-bottom: 0.5em;}#sk-container-id-1 div.sk-estimator:hover {background-color: #d4ebff;}#sk-container-id-1 div.sk-parallel-item::after {content: \"\";width: 100%;border-bottom: 1px solid gray;flex-grow: 1;}#sk-container-id-1 div.sk-label:hover label.sk-toggleable__label {background-color: #d4ebff;}#sk-container-id-1 div.sk-serial::before {content: \"\";position: absolute;border-left: 1px solid gray;box-sizing: border-box;top: 0;bottom: 0;left: 50%;z-index: 0;}#sk-container-id-1 div.sk-serial {display: flex;flex-direction: column;align-items: center;background-color: white;padding-right: 0.2em;padding-left: 0.2em;position: relative;}#sk-container-id-1 div.sk-item {position: relative;z-index: 1;}#sk-container-id-1 div.sk-parallel {display: flex;align-items: stretch;justify-content: center;background-color: white;position: relative;}#sk-container-id-1 div.sk-item::before, #sk-container-id-1 div.sk-parallel-item::before {content: \"\";position: absolute;border-left: 1px solid gray;box-sizing: border-box;top: 0;bottom: 0;left: 50%;z-index: -1;}#sk-container-id-1 div.sk-parallel-item {display: flex;flex-direction: column;z-index: 1;position: relative;background-color: white;}#sk-container-id-1 div.sk-parallel-item:first-child::after {align-self: flex-end;width: 50%;}#sk-container-id-1 div.sk-parallel-item:last-child::after {align-self: flex-start;width: 50%;}#sk-container-id-1 div.sk-parallel-item:only-child::after {width: 0;}#sk-container-id-1 div.sk-dashed-wrapped {border: 1px dashed gray;margin: 0 0.4em 0.5em 0.4em;box-sizing: border-box;padding-bottom: 0.4em;background-color: white;}#sk-container-id-1 div.sk-label label {font-family: monospace;font-weight: bold;display: inline-block;line-height: 1.2em;}#sk-container-id-1 div.sk-label-container {text-align: center;}#sk-container-id-1 div.sk-container {/* jupyter's `normalize.less` sets `[hidden] { display: none; }` but bootstrap.min.css set `[hidden] { display: none !important; }` so we also need the `!important` here to be able to override the default hidden behavior on the sphinx rendered scikit-learn.org. See: https://github.com/scikit-learn/scikit-learn/issues/21755 */display: inline-block !important;position: relative;}#sk-container-id-1 div.sk-text-repr-fallback {display: none;}</style><div id=\"sk-container-id-1\" class=\"sk-top-container\"><div class=\"sk-text-repr-fallback\"><pre>LogisticRegression()</pre><b>In a Jupyter environment, please rerun this cell to show the HTML representation or trust the notebook. <br />On GitHub, the HTML representation is unable to render, please try loading this page with nbviewer.org.</b></div><div class=\"sk-container\" hidden><div class=\"sk-item\"><div class=\"sk-estimator sk-toggleable\"><input class=\"sk-toggleable__control sk-hidden--visually\" id=\"sk-estimator-id-1\" type=\"checkbox\" checked><label for=\"sk-estimator-id-1\" class=\"sk-toggleable__label sk-toggleable__label-arrow\">LogisticRegression</label><div class=\"sk-toggleable__content\"><pre>LogisticRegression()</pre></div></div></div></div></div>"
      ],
      "text/plain": [
       "LogisticRegression()"
      ]
     },
     "execution_count": 14,
     "metadata": {},
     "output_type": "execute_result"
    }
   ],
   "source": [
    "X_train, X_test, Y_train, Y_test = train_test_split(X, Y, test_size=0.2, stratify=Y, random_state=2)\n",
    "LRmodel = LogisticRegression()\n",
    "LRmodel.fit(X_train, Y_train)"
   ]
  },
  {
   "cell_type": "code",
   "execution_count": 15,
   "id": "222076d7",
   "metadata": {},
   "outputs": [],
   "source": [
    "#accuracy calculation on training data\n",
    "X_train_prediction = LRmodel.predict(X_train)\n",
    "training_dataaccuracy = accuracy_score(Y_train, X_train_prediction)"
   ]
  },
  {
   "cell_type": "code",
   "execution_count": 16,
   "id": "0e15610a",
   "metadata": {},
   "outputs": [
    {
     "name": "stdout",
     "output_type": "stream",
     "text": [
      "Accuracy of logistic regression model on training data :  100.0 %\n"
     ]
    }
   ],
   "source": [
    "print('Accuracy of logistic regression model on training data : ', round(training_dataaccuracy*100, 2), '%')"
   ]
  },
  {
   "cell_type": "code",
   "execution_count": 17,
   "id": "6014f9b5",
   "metadata": {},
   "outputs": [
    {
     "name": "stdout",
     "output_type": "stream",
     "text": [
      "Accuracy of logistic regression model on test data:  100.0 %\n"
     ]
    }
   ],
   "source": [
    "X_test_prediction = LRmodel.predict(X_test)\n",
    "test_data_accuracy = accuracy_score(Y_test, X_test_prediction)\n",
    "print('Accuracy of logistic regression model on test data: ', round(test_data_accuracy*100, 2), '%')"
   ]
  },
  {
   "cell_type": "code",
   "execution_count": 18,
   "id": "d7898086",
   "metadata": {},
   "outputs": [],
   "source": [
    "from sklearn.metrics import confusion_matrix\n"
   ]
  },
  {
   "cell_type": "code",
   "execution_count": 19,
   "id": "a6353e26",
   "metadata": {},
   "outputs": [
    {
     "name": "stdout",
     "output_type": "stream",
     "text": [
      "[[10  0  0]\n",
      " [ 0 10  0]\n",
      " [ 0  0 10]]\n"
     ]
    }
   ],
   "source": [
    "from sklearn.metrics import confusion_matrix\n",
    "\n",
    "# Assuming you have already trained a model and obtained predictions on the test set\n",
    "X_train_prediction = LRmodel.predict(X_test)\n",
    "\n",
    "# Ensure that Y_test and X_train_prediction have the same number of samples\n",
    "confusionmatrix = confusion_matrix(Y_test, X_train_prediction)\n",
    "\n",
    "print(confusionmatrix)"
   ]
  },
  {
   "cell_type": "code",
   "execution_count": 20,
   "id": "188e7bfd",
   "metadata": {},
   "outputs": [
    {
     "data": {
      "image/png": "[encoded data removed]",
      "text/plain": [
       "<Figure size 800x600 with 1 Axes>"
      ]
     },
     "metadata": {},
     "output_type": "display_data"
    }
   ],
   "source": [
    "X_train_prediction = LRmodel.predict(X_test)\n",
    "\n",
    "# Calculate the confusion matrix\n",
    "confusionmatrix = confusion_matrix(Y_test, X_train_prediction)\n",
    "\n",
    "# Create a heatmap for the confusion matrix\n",
    "plt.figure(figsize=(8, 6))\n",
    "sns.heatmap(confusionmatrix, annot=True, fmt='d', cmap='Blues', cbar=False)\n",
    "plt.xlabel('Predicted')\n",
    "plt.ylabel('True')\n",
    "plt.title('Confusion Matrix')\n",
    "plt.show()"
   ]
  }
 ],
 "metadata": {
  "kernelspec": {
   "display_name": "Python 3 (ipykernel)",
   "language": "python",
   "name": "python3"
  },
  "language_info": {
   "codemirror_mode": {
    "name": "ipython",
    "version": 3
   },
   "file_extension": ".py",
   "mimetype": "text/x-python",
   "name": "python",
   "nbconvert_exporter": "python",
   "pygments_lexer": "ipython3",
   "version": "3.11.5"
  }
 },
 "nbformat": 4,
 "nbformat_minor": 5
}
